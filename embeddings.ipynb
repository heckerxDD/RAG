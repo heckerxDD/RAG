{
 "cells": [
  {
   "cell_type": "markdown",
   "metadata": {},
   "source": [
    "###BGE embeddings"
   ]
  },
  {
   "cell_type": "code",
   "execution_count": 1,
   "metadata": {},
   "outputs": [
    {
     "name": "stdout",
     "output_type": "stream",
     "text": [
      "Requirement already satisfied: FlagEmbedding in /Users/xingjiamu/VScode/LLM/.venv/lib/python3.12/site-packages (1.3.4)\n",
      "Requirement already satisfied: torch>=1.6.0 in /Users/xingjiamu/VScode/LLM/.venv/lib/python3.12/site-packages (from FlagEmbedding) (2.6.0)\n",
      "Requirement already satisfied: transformers>=4.44.2 in /Users/xingjiamu/VScode/LLM/.venv/lib/python3.12/site-packages (from FlagEmbedding) (4.49.0)\n",
      "Requirement already satisfied: datasets>=2.19.0 in /Users/xingjiamu/VScode/LLM/.venv/lib/python3.12/site-packages (from FlagEmbedding) (3.3.2)\n",
      "Requirement already satisfied: accelerate>=0.20.1 in /Users/xingjiamu/VScode/LLM/.venv/lib/python3.12/site-packages (from FlagEmbedding) (1.4.0)\n",
      "Requirement already satisfied: sentence_transformers in /Users/xingjiamu/VScode/LLM/.venv/lib/python3.12/site-packages (from FlagEmbedding) (3.4.1)\n",
      "Requirement already satisfied: peft in /Users/xingjiamu/VScode/LLM/.venv/lib/python3.12/site-packages (from FlagEmbedding) (0.14.0)\n",
      "Requirement already satisfied: ir-datasets in /Users/xingjiamu/VScode/LLM/.venv/lib/python3.12/site-packages (from FlagEmbedding) (0.5.9)\n",
      "Requirement already satisfied: sentencepiece in /Users/xingjiamu/VScode/LLM/.venv/lib/python3.12/site-packages (from FlagEmbedding) (0.2.0)\n",
      "Requirement already satisfied: protobuf in /Users/xingjiamu/VScode/LLM/.venv/lib/python3.12/site-packages (from FlagEmbedding) (5.29.3)\n",
      "Requirement already satisfied: numpy<3.0.0,>=1.17 in /Users/xingjiamu/VScode/LLM/.venv/lib/python3.12/site-packages (from accelerate>=0.20.1->FlagEmbedding) (2.2.2)\n",
      "Requirement already satisfied: packaging>=20.0 in /Users/xingjiamu/VScode/LLM/.venv/lib/python3.12/site-packages (from accelerate>=0.20.1->FlagEmbedding) (24.2)\n",
      "Requirement already satisfied: psutil in /Users/xingjiamu/VScode/LLM/.venv/lib/python3.12/site-packages (from accelerate>=0.20.1->FlagEmbedding) (6.1.1)\n",
      "Requirement already satisfied: pyyaml in /Users/xingjiamu/VScode/LLM/.venv/lib/python3.12/site-packages (from accelerate>=0.20.1->FlagEmbedding) (6.0.2)\n",
      "Requirement already satisfied: huggingface-hub>=0.21.0 in /Users/xingjiamu/VScode/LLM/.venv/lib/python3.12/site-packages (from accelerate>=0.20.1->FlagEmbedding) (0.29.1)\n",
      "Requirement already satisfied: safetensors>=0.4.3 in /Users/xingjiamu/VScode/LLM/.venv/lib/python3.12/site-packages (from accelerate>=0.20.1->FlagEmbedding) (0.5.2)\n",
      "Requirement already satisfied: filelock in /Users/xingjiamu/VScode/LLM/.venv/lib/python3.12/site-packages (from datasets>=2.19.0->FlagEmbedding) (3.17.0)\n",
      "Requirement already satisfied: pyarrow>=15.0.0 in /Users/xingjiamu/VScode/LLM/.venv/lib/python3.12/site-packages (from datasets>=2.19.0->FlagEmbedding) (19.0.1)\n",
      "Requirement already satisfied: dill<0.3.9,>=0.3.0 in /Users/xingjiamu/VScode/LLM/.venv/lib/python3.12/site-packages (from datasets>=2.19.0->FlagEmbedding) (0.3.8)\n",
      "Requirement already satisfied: pandas in /Users/xingjiamu/VScode/LLM/.venv/lib/python3.12/site-packages (from datasets>=2.19.0->FlagEmbedding) (2.2.3)\n",
      "Requirement already satisfied: requests>=2.32.2 in /Users/xingjiamu/VScode/LLM/.venv/lib/python3.12/site-packages (from datasets>=2.19.0->FlagEmbedding) (2.32.3)\n",
      "Requirement already satisfied: tqdm>=4.66.3 in /Users/xingjiamu/VScode/LLM/.venv/lib/python3.12/site-packages (from datasets>=2.19.0->FlagEmbedding) (4.67.1)\n",
      "Requirement already satisfied: xxhash in /Users/xingjiamu/VScode/LLM/.venv/lib/python3.12/site-packages (from datasets>=2.19.0->FlagEmbedding) (3.5.0)\n",
      "Requirement already satisfied: multiprocess<0.70.17 in /Users/xingjiamu/VScode/LLM/.venv/lib/python3.12/site-packages (from datasets>=2.19.0->FlagEmbedding) (0.70.16)\n",
      "Requirement already satisfied: fsspec<=2024.12.0,>=2023.1.0 in /Users/xingjiamu/VScode/LLM/.venv/lib/python3.12/site-packages (from fsspec[http]<=2024.12.0,>=2023.1.0->datasets>=2.19.0->FlagEmbedding) (2024.12.0)\n",
      "Requirement already satisfied: aiohttp in /Users/xingjiamu/VScode/LLM/.venv/lib/python3.12/site-packages (from datasets>=2.19.0->FlagEmbedding) (3.11.13)\n",
      "Requirement already satisfied: typing-extensions>=4.10.0 in /Users/xingjiamu/VScode/LLM/.venv/lib/python3.12/site-packages (from torch>=1.6.0->FlagEmbedding) (4.12.2)\n",
      "Requirement already satisfied: networkx in /Users/xingjiamu/VScode/LLM/.venv/lib/python3.12/site-packages (from torch>=1.6.0->FlagEmbedding) (3.4.2)\n",
      "Requirement already satisfied: jinja2 in /Users/xingjiamu/VScode/LLM/.venv/lib/python3.12/site-packages (from torch>=1.6.0->FlagEmbedding) (3.1.5)\n",
      "Requirement already satisfied: setuptools in /Users/xingjiamu/VScode/LLM/.venv/lib/python3.12/site-packages (from torch>=1.6.0->FlagEmbedding) (75.8.0)\n",
      "Requirement already satisfied: sympy==1.13.1 in /Users/xingjiamu/VScode/LLM/.venv/lib/python3.12/site-packages (from torch>=1.6.0->FlagEmbedding) (1.13.1)\n",
      "Requirement already satisfied: mpmath<1.4,>=1.1.0 in /Users/xingjiamu/VScode/LLM/.venv/lib/python3.12/site-packages (from sympy==1.13.1->torch>=1.6.0->FlagEmbedding) (1.3.0)\n",
      "Requirement already satisfied: regex!=2019.12.17 in /Users/xingjiamu/VScode/LLM/.venv/lib/python3.12/site-packages (from transformers>=4.44.2->FlagEmbedding) (2024.11.6)\n",
      "Requirement already satisfied: tokenizers<0.22,>=0.21 in /Users/xingjiamu/VScode/LLM/.venv/lib/python3.12/site-packages (from transformers>=4.44.2->FlagEmbedding) (0.21.0)\n",
      "Requirement already satisfied: beautifulsoup4>=4.4.1 in /Users/xingjiamu/VScode/LLM/.venv/lib/python3.12/site-packages (from ir-datasets->FlagEmbedding) (4.13.3)\n",
      "Requirement already satisfied: inscriptis>=2.2.0 in /Users/xingjiamu/VScode/LLM/.venv/lib/python3.12/site-packages (from ir-datasets->FlagEmbedding) (2.5.3)\n",
      "Requirement already satisfied: lxml>=4.5.2 in /Users/xingjiamu/VScode/LLM/.venv/lib/python3.12/site-packages (from ir-datasets->FlagEmbedding) (5.3.1)\n",
      "Requirement already satisfied: trec-car-tools>=2.5.4 in /Users/xingjiamu/VScode/LLM/.venv/lib/python3.12/site-packages (from ir-datasets->FlagEmbedding) (2.6)\n",
      "Requirement already satisfied: lz4>=3.1.10 in /Users/xingjiamu/VScode/LLM/.venv/lib/python3.12/site-packages (from ir-datasets->FlagEmbedding) (4.4.3)\n",
      "Requirement already satisfied: warc3-wet>=0.2.3 in /Users/xingjiamu/VScode/LLM/.venv/lib/python3.12/site-packages (from ir-datasets->FlagEmbedding) (0.2.5)\n",
      "Requirement already satisfied: warc3-wet-clueweb09>=0.2.5 in /Users/xingjiamu/VScode/LLM/.venv/lib/python3.12/site-packages (from ir-datasets->FlagEmbedding) (0.2.5)\n",
      "Requirement already satisfied: zlib-state>=0.1.3 in /Users/xingjiamu/VScode/LLM/.venv/lib/python3.12/site-packages (from ir-datasets->FlagEmbedding) (0.1.9)\n",
      "Requirement already satisfied: ijson>=3.1.3 in /Users/xingjiamu/VScode/LLM/.venv/lib/python3.12/site-packages (from ir-datasets->FlagEmbedding) (3.3.0)\n",
      "Requirement already satisfied: unlzw3>=0.2.1 in /Users/xingjiamu/VScode/LLM/.venv/lib/python3.12/site-packages (from ir-datasets->FlagEmbedding) (0.2.3)\n",
      "Requirement already satisfied: scikit-learn in /Users/xingjiamu/VScode/LLM/.venv/lib/python3.12/site-packages (from sentence_transformers->FlagEmbedding) (1.6.1)\n",
      "Requirement already satisfied: scipy in /Users/xingjiamu/VScode/LLM/.venv/lib/python3.12/site-packages (from sentence_transformers->FlagEmbedding) (1.15.1)\n",
      "Requirement already satisfied: Pillow in /Users/xingjiamu/VScode/LLM/.venv/lib/python3.12/site-packages (from sentence_transformers->FlagEmbedding) (11.1.0)\n",
      "Requirement already satisfied: soupsieve>1.2 in /Users/xingjiamu/VScode/LLM/.venv/lib/python3.12/site-packages (from beautifulsoup4>=4.4.1->ir-datasets->FlagEmbedding) (2.6)\n",
      "Requirement already satisfied: aiohappyeyeballs>=2.3.0 in /Users/xingjiamu/VScode/LLM/.venv/lib/python3.12/site-packages (from aiohttp->datasets>=2.19.0->FlagEmbedding) (2.4.6)\n",
      "Requirement already satisfied: aiosignal>=1.1.2 in /Users/xingjiamu/VScode/LLM/.venv/lib/python3.12/site-packages (from aiohttp->datasets>=2.19.0->FlagEmbedding) (1.3.2)\n",
      "Requirement already satisfied: attrs>=17.3.0 in /Users/xingjiamu/VScode/LLM/.venv/lib/python3.12/site-packages (from aiohttp->datasets>=2.19.0->FlagEmbedding) (25.1.0)\n",
      "Requirement already satisfied: frozenlist>=1.1.1 in /Users/xingjiamu/VScode/LLM/.venv/lib/python3.12/site-packages (from aiohttp->datasets>=2.19.0->FlagEmbedding) (1.5.0)\n",
      "Requirement already satisfied: multidict<7.0,>=4.5 in /Users/xingjiamu/VScode/LLM/.venv/lib/python3.12/site-packages (from aiohttp->datasets>=2.19.0->FlagEmbedding) (6.1.0)\n",
      "Requirement already satisfied: propcache>=0.2.0 in /Users/xingjiamu/VScode/LLM/.venv/lib/python3.12/site-packages (from aiohttp->datasets>=2.19.0->FlagEmbedding) (0.3.0)\n",
      "Requirement already satisfied: yarl<2.0,>=1.17.0 in /Users/xingjiamu/VScode/LLM/.venv/lib/python3.12/site-packages (from aiohttp->datasets>=2.19.0->FlagEmbedding) (1.18.3)\n",
      "Requirement already satisfied: charset-normalizer<4,>=2 in /Users/xingjiamu/VScode/LLM/.venv/lib/python3.12/site-packages (from requests>=2.32.2->datasets>=2.19.0->FlagEmbedding) (3.4.1)\n",
      "Requirement already satisfied: idna<4,>=2.5 in /Users/xingjiamu/VScode/LLM/.venv/lib/python3.12/site-packages (from requests>=2.32.2->datasets>=2.19.0->FlagEmbedding) (3.10)\n",
      "Requirement already satisfied: urllib3<3,>=1.21.1 in /Users/xingjiamu/VScode/LLM/.venv/lib/python3.12/site-packages (from requests>=2.32.2->datasets>=2.19.0->FlagEmbedding) (2.3.0)\n",
      "Requirement already satisfied: certifi>=2017.4.17 in /Users/xingjiamu/VScode/LLM/.venv/lib/python3.12/site-packages (from requests>=2.32.2->datasets>=2.19.0->FlagEmbedding) (2025.1.31)\n",
      "Requirement already satisfied: cbor>=1.0.0 in /Users/xingjiamu/VScode/LLM/.venv/lib/python3.12/site-packages (from trec-car-tools>=2.5.4->ir-datasets->FlagEmbedding) (1.0.0)\n",
      "Requirement already satisfied: MarkupSafe>=2.0 in /Users/xingjiamu/VScode/LLM/.venv/lib/python3.12/site-packages (from jinja2->torch>=1.6.0->FlagEmbedding) (3.0.2)\n",
      "Requirement already satisfied: python-dateutil>=2.8.2 in /Users/xingjiamu/VScode/LLM/.venv/lib/python3.12/site-packages (from pandas->datasets>=2.19.0->FlagEmbedding) (2.9.0.post0)\n",
      "Requirement already satisfied: pytz>=2020.1 in /Users/xingjiamu/VScode/LLM/.venv/lib/python3.12/site-packages (from pandas->datasets>=2.19.0->FlagEmbedding) (2025.1)\n",
      "Requirement already satisfied: tzdata>=2022.7 in /Users/xingjiamu/VScode/LLM/.venv/lib/python3.12/site-packages (from pandas->datasets>=2.19.0->FlagEmbedding) (2025.1)\n",
      "Requirement already satisfied: joblib>=1.2.0 in /Users/xingjiamu/VScode/LLM/.venv/lib/python3.12/site-packages (from scikit-learn->sentence_transformers->FlagEmbedding) (1.4.2)\n",
      "Requirement already satisfied: threadpoolctl>=3.1.0 in /Users/xingjiamu/VScode/LLM/.venv/lib/python3.12/site-packages (from scikit-learn->sentence_transformers->FlagEmbedding) (3.5.0)\n",
      "Requirement already satisfied: six>=1.5 in /Users/xingjiamu/VScode/LLM/.venv/lib/python3.12/site-packages (from python-dateutil>=2.8.2->pandas->datasets>=2.19.0->FlagEmbedding) (1.17.0)\n",
      "Note: you may need to restart the kernel to use updated packages.\n"
     ]
    }
   ],
   "source": [
    "%pip install FlagEmbedding"
   ]
  },
  {
   "cell_type": "code",
   "execution_count": 14,
   "metadata": {},
   "outputs": [
    {
     "name": "stderr",
     "output_type": "stream",
     "text": [
      "You're using a BertTokenizerFast tokenizer. Please note that with a fast tokenizer, using the `__call__` method is faster than using a method to encode the text followed by a call to the `pad` method to get a padded encoding.\n"
     ]
    },
    {
     "name": "stdout",
     "output_type": "stream",
     "text": [
      "[[0.511  0.4507 0.521  0.4758 0.4185 0.4438]]\n"
     ]
    }
   ],
   "source": [
    "from FlagEmbedding import FlagModel\n",
    "from FlagEmbedding import FlagAutoModel\n",
    "\n",
    "model = FlagAutoModel.from_finetuned('BAAI/bge-base-en-v1.5',\n",
    "                                      query_instruction_for_retrieval=\"Represent this sentence for searching relevant passages:\",\n",
    "                                      use_fp16=True)\n",
    "\n",
    "query = [\"what should I do this afternoon?\"]\n",
    "corpus = [\"I love music\", \n",
    "          \"that flower is red\",\n",
    "          \"I like hiking\",\n",
    "          \"I love to stay up late\",\n",
    "          \"math is difficult\",\n",
    "          \"a bmw car\"\n",
    "        ]\n",
    "\n",
    "embeddings_1 = model.encode(query)\n",
    "embeddings_2 = model.encode(corpus)\n",
    "similarity = embeddings_1 @ embeddings_2.T\n",
    "print(similarity)"
   ]
  },
  {
   "cell_type": "code",
   "execution_count": null,
   "metadata": {},
   "outputs": [],
   "source": [
    "# for s2p(short query to long passage) retrieval task, suggest to use encode_queries() which will automatically add the instruction to each query\n",
    "# corpus in retrieval task can still use encode() or encode_corpus(), since they don't need instruction\n",
    "queries = ['query_1', 'query_2']\n",
    "passages = [\"样例文档-1\", \"样例文档-2\"]\n",
    "q_embeddings = model.encode_queries(queries)\n",
    "p_embeddings = model.encode(passages)\n",
    "scores = q_embeddings @ p_embeddings.T"
   ]
  }
 ],
 "metadata": {
  "kernelspec": {
   "display_name": ".venv",
   "language": "python",
   "name": "python3"
  },
  "language_info": {
   "codemirror_mode": {
    "name": "ipython",
    "version": 3
   },
   "file_extension": ".py",
   "mimetype": "text/x-python",
   "name": "python",
   "nbconvert_exporter": "python",
   "pygments_lexer": "ipython3",
   "version": "3.12.2"
  }
 },
 "nbformat": 4,
 "nbformat_minor": 2
}
