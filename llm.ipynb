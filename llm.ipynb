{
 "cells": [
  {
   "cell_type": "code",
   "execution_count": 18,
   "metadata": {},
   "outputs": [],
   "source": [
    "import torch\n",
    "\n",
    "with open('wizard_of_oz.txt', 'r', encoding='utf8') as f:\n",
    "    text = f.read()\n",
    "\n",
    "chars = sorted(set(text))\n",
    "vocabularysize = len(chars)"
   ]
  },
  {
   "cell_type": "code",
   "execution_count": 19,
   "metadata": {},
   "outputs": [],
   "source": [
    "string_to_int = { ch:i for i, ch in enumerate(chars)}\n",
    "# this variable is a dictionary that associates each character with its index in {chars}\n",
    "int_to_string = { i:ch for i, ch in enumerate(chars)}\n",
    "encode = lambda s: [string_to_int[c] for c in s]\n",
    "# for each character in the string, use the above dictionary to get its index \n",
    "decode = lambda l: ''.join([int_to_string[i] for i in l])\n",
    "\n",
    "data = torch.tensor(encode(text), dtype=torch.long)\n",
    "# here we encode the entire {text} and store the \"indexes\" into variable {data}\n",
    "n = int(0.8 * len(data))\n",
    "train_data, val_data = data[:n], data[n:]\n",
    "# split the dataset into training set and validation set"
   ]
  },
  {
   "cell_type": "code",
   "execution_count": 23,
   "metadata": {},
   "outputs": [
    {
     "name": "stdout",
     "output_type": "stream",
     "text": [
      "when input is tensor([0]), target is 34\n",
      "when input is tensor([ 0, 34]), target is 48\n",
      "when input is tensor([ 0, 34, 48]), target is 45\n",
      "when input is tensor([ 0, 34, 48, 45]), target is 1\n",
      "when input is tensor([ 0, 34, 48, 45,  1]), target is 37\n",
      "when input is tensor([ 0, 34, 48, 45,  1, 37]), target is 55\n",
      "when input is tensor([ 0, 34, 48, 45,  1, 37, 55]), target is 54\n",
      "when input is tensor([ 0, 34, 48, 45,  1, 37, 55, 54]), target is 44\n"
     ]
    }
   ],
   "source": [
    "block_size = 8 \n",
    "\n",
    "x = train_data[:block_size]  # 0 ~ 8 , note this is in tensor format\n",
    "y = train_data[1:block_size+1]  # 1 ~ 9\n",
    "# x : tensor([ 0, 34, 48, 45,  1, 37, 55, 54])\n",
    "# y : tensor([34, 48, 45,  1, 37, 55, 54, 44])\n",
    "\n",
    "for t in range(block_size):\n",
    "    context = x[:t+1]\n",
    "    target = y[t]\n",
    "    print(f\"when input is {context}, target is {target}\")\n"
   ]
  },
  {
   "cell_type": "code",
   "execution_count": null,
   "metadata": {},
   "outputs": [],
   "source": []
  }
 ],
 "metadata": {
  "kernelspec": {
   "display_name": "venv",
   "language": "python",
   "name": "python3"
  },
  "language_info": {
   "codemirror_mode": {
    "name": "ipython",
    "version": 3
   },
   "file_extension": ".py",
   "mimetype": "text/x-python",
   "name": "python",
   "nbconvert_exporter": "python",
   "pygments_lexer": "ipython3",
   "version": "3.12.2"
  }
 },
 "nbformat": 4,
 "nbformat_minor": 2
}
